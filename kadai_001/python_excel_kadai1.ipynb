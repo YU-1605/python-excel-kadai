{
  "nbformat": 4,
  "nbformat_minor": 0,
  "metadata": {
    "colab": {
      "provenance": []
    },
    "kernelspec": {
      "name": "python3",
      "display_name": "Python 3"
    },
    "language_info": {
      "name": "python"
    }
  },
  "cells": [
    {
      "cell_type": "code",
      "execution_count": 5,
      "metadata": {
        "id": "FwJNULfIIeaE"
      },
      "outputs": [],
      "source": [
        "import openpyxl\n",
        "from openpyxl.styles import Font\n",
        "from datetime import datetime\n",
        "\n",
        "wb = openpyxl.Workbook()\n",
        "ws = wb.active\n",
        "\n",
        "\n",
        "ws[\"B2\"] = \"請求書\"\n",
        "\n",
        "company_info = [\n",
        "    \"株式会社ABC\",\n",
        "    \"〒101-0022 東京都千代田区神田練塀町300\",\n",
        "    \"TEL:03-1234-5678 FAX:03-1234-5678\",\n",
        "    \"担当者名: 鈴木一郎 様\"\n",
        "]\n",
        "\n",
        "for row, text in enumerate(company_info, start=4):\n",
        "  ws[f\"B{row}\"] = text\n",
        "\n",
        "ws.merge_cells(\"B4:C4\")\n",
        "ws.merge_cells(\"B5:E5\")\n",
        "ws.merge_cells(\"B6:E6\")\n",
        "ws.merge_cells(\"B7:D7\")\n",
        "\n",
        "ws[\"F4\"] = \"No.\"\n",
        "ws[\"F5\"] = \"日付\"\n",
        "ws[\"G4\"] = \"0001\"\n",
        "ws[\"G5\"] = f\"{datetime.today().strftime('%Y/%m/%d')}\"\n",
        "\n",
        "headers = [\n",
        "    \"商品名\",\n",
        "    \"数量\",\n",
        "    \"単価\",\n",
        "    \"金額\",\n",
        "]\n",
        "\n",
        "for col, header in enumerate(headers, start=2):\n",
        "  cell = ws.cell(row=10, column=col, value=header)\n",
        "\n",
        "items = [\n",
        "    [\"商品A\", 2, 10000, 20000],\n",
        "    [\"商品B\", 1, 15000, 15000],\n",
        "    [\"\",\"\", \"\", 35000],\n",
        "]\n",
        "\n",
        "\n",
        "\n",
        "for row_idx, item in enumerate(items, start=11):\n",
        "  for col_idx, value in enumerate(item, start=2):\n",
        "    cell = ws.cell(row=row_idx, column=col_idx, value=value)\n",
        "\n",
        "summary = [\n",
        "    (\"小計\", 35000),\n",
        "    (\"消費税\", 3500),\n",
        "    (\"税込合計\", 38500)\n",
        "]\n",
        "\n",
        "for row, (label, value) in enumerate(summary, start=15):\n",
        "  ws[f\"B{row}\"] = label\n",
        "  ws[f\"E{row}\"] = value\n",
        "\n",
        "\n",
        "today = datetime.today().strftime('%Y%m%d')\n",
        "\n",
        "file_name = f\"請求書_{today}.xlsx\"\n",
        "\n",
        "wb.save(file_name)\n"
      ]
    }
  ]
}