{
  "nbformat": 4,
  "nbformat_minor": 0,
  "metadata": {
    "colab": {
      "provenance": []
    },
    "kernelspec": {
      "name": "python3",
      "display_name": "Python 3"
    },
    "language_info": {
      "name": "python"
    }
  },
  "cells": [
    {
      "cell_type": "code",
      "execution_count": 2,
      "metadata": {
        "id": "trjZ1L-pbWX7"
      },
      "outputs": [],
      "source": [
        "import pandas as pd\n",
        "from openpyxl import load_workbook\n",
        "from openpyxl.styles import PatternFill\n",
        "\n",
        "# Excelファイルを読み込む\n",
        "df_2022 = pd.read_excel('/content/2022_年間売上表.xlsx')\n",
        "df_2023 = pd.read_excel('/content/2023_年間売上表.xlsx')\n",
        "\n",
        "# データを連結\n",
        "df = pd.concat([df_2022, df_2023])\n",
        "\n",
        "# 商品と売上年ごとにグループ化し、合計金額を計算\n",
        "grouped_df = df.groupby(['商品', '売上年'], as_index=False)['金額（千円）'].sum()\n",
        "\n",
        "grouped_df.to_excel('売上集計表.xlsx', index=False)"
      ]
    },
    {
      "cell_type": "code",
      "source": [
        "# Excelファイルを開く\n",
        "wb = load_workbook('/content/売上集計表.xlsx')\n",
        "ws = wb.active\n",
        "\n",
        "header_fill = PatternFill(start_color='F2F2F2', end_color='F2F2F2', fill_type='solid')\n",
        "\n",
        "for cell in ws[1]:\n",
        "  cell.fill = header_fill\n",
        "\n",
        "wb.save('/content/売上集計表.xlsx')"
      ],
      "metadata": {
        "id": "JfL0D_A_g8KF"
      },
      "execution_count": 3,
      "outputs": []
    }
  ]
}