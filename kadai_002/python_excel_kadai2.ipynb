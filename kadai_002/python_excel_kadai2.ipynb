{
  "nbformat": 4,
  "nbformat_minor": 0,
  "metadata": {
    "colab": {
      "provenance": []
    },
    "kernelspec": {
      "name": "python3",
      "display_name": "Python 3"
    },
    "language_info": {
      "name": "python"
    }
  },
  "cells": [
    {
      "cell_type": "code",
      "execution_count": 1,
      "metadata": {
        "id": "LxGU8SVrIsPk"
      },
      "outputs": [],
      "source": [
        "import pandas as pd\n",
        "\n",
        "df = pd.DataFrame({\n",
        "    '日付':\n",
        "    ['2023-05-17', '2023-05-18', '2023-05-19', '2023-05-20', '2023-05-21'],\n",
        "    '社員名': ['山田', '佐藤', '鈴木', '田中', '高橋'],\n",
        "    '売上': [100, 200, 150, 300, 250],\n",
        "    '部門': ['メーカー', '代理店', 'メーカー', '商社', '代理店'],\n",
        "})"
      ]
    },
    {
      "cell_type": "code",
      "source": [
        "df['平均売上'] = df['売上'].mean()"
      ],
      "metadata": {
        "id": "dEst6CwEJUR8"
      },
      "execution_count": 2,
      "outputs": []
    },
    {
      "cell_type": "code",
      "source": [
        "def performance(sales, average):\n",
        "  result = '';\n",
        "  if sales >= average+50:\n",
        "    result = 'A';\n",
        "  elif sales >= average:\n",
        "    result = 'B';\n",
        "  else:\n",
        "    result = 'C';\n",
        "  return result\n",
        "\n",
        "df['業績ランク'] = df.apply(lambda row: performance(row['売上'], row['平均売上']), axis=1)\n"
      ],
      "metadata": {
        "id": "XEfyxcseJa8q"
      },
      "execution_count": 6,
      "outputs": []
    },
    {
      "cell_type": "code",
      "source": [
        "writer = pd.ExcelWriter('業績.xlsx')\n",
        "\n",
        "df.to_excel(writer, sheet_name='Sheet1', index=False)\n",
        "writer.close()"
      ],
      "metadata": {
        "id": "GjUkVWgpOcaW"
      },
      "execution_count": 7,
      "outputs": []
    }
  ]
}